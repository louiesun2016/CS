{
 "cells": [
  {
   "cell_type": "markdown",
   "metadata": {},
   "source": [
    "# A Model to calculate student learning outcomes output"
   ]
  },
  {
   "cell_type": "markdown",
   "metadata": {},
   "source": [
    "### 0. Import Packages"
   ]
  },
  {
   "cell_type": "code",
   "execution_count": 4,
   "metadata": {},
   "outputs": [],
   "source": [
    "import numpy as np\n",
    "import pandas as pd\n",
    "import matplotlib.pyplot as plt\n",
    "import seaborn as sns\n",
    "import os"
   ]
  },
  {
   "cell_type": "markdown",
   "metadata": {},
   "source": [
    "### 1. Read Dataset"
   ]
  },
  {
   "cell_type": "code",
   "execution_count": 2,
   "metadata": {},
   "outputs": [
    {
     "name": "stderr",
     "output_type": "stream",
     "text": [
      "C:\\Users\\louie\\Anaconda3\\lib\\site-packages\\dateutil\\parser\\_parser.py:1204: UnknownTimezoneWarning: tzname MDT identified but not understood.  Pass `tzinfos` argument in order to correctly return a timezone-aware datetime.  In a future version, this will raise an exception.\n",
      "  category=UnknownTimezoneWarning)\n"
     ]
    }
   ],
   "source": [
    "df1 = pd.read_csv(r'C:\\C_partI.csv',parse_dates=[0, 2], index_col=[0],header=0,names=[\"hours\",'money','discussion','exam','practice','self-rate','feeling','learnt','apply','performance'])\n",
    "df2 = pd.read_csv(r'c:\\C_partII.csv',parse_dates=[0, 2], index_col=[0],header=0,names=[\"hours\",'money','discussion','exam','practice','assignment','mid-term','final','rank'])\n",
    "df3 = pd.read_csv('C:\\\\O_partI.csv',parse_dates=[0, 2], index_col=[0],header=0,names=[\"hours\",'money','discussion','exam','practice','self-rate','feeling','learnt','apply','performance'])\n",
    "df4 = pd.read_csv('C:/O_partII.csv',parse_dates=[0, 2], index_col=[0],header=0,names=[\"hours\",'money','discussion','exam','practice','assignment','mid-term','final','rank'])\n",
    "df2['hours']=df2['hours'].astype(str).astype(float)\n",
    "df2['hours']=df2['hours'].astype(str).astype(float)\n",
    "df2['hours']=df2['hours'].astype(str).astype(float)\n",
    "#Just record four way to open the csv data in windows C direcotry\n",
    "\n",
    "#There may be a probelm of unknown time zone warning, you can ignore that."
   ]
  },
  {
   "cell_type": "markdown",
   "metadata": {},
   "source": [
    "### 2. Some basic data clean and process"
   ]
  },
  {
   "cell_type": "code",
   "execution_count": 3,
   "metadata": {},
   "outputs": [],
   "source": [
    "# df2 and df4 have numerical data and df1 and df3 have string data.\n",
    "# transfer all the data in d2 and d4 to float\n",
    "df2=df2.astype(str).astype(float)\n",
    "df4=df4.astype(str).astype(float)\n",
    "# transfer all the data in d1 and d2 to binary data\n",
    "df1[df1== 'Much (>10hrs)']=1.0 \n",
    "df1[df1== 'Much (>10 hrs)']=1.0 \n",
    "df1[df1== 'Much (>2 hrs)']=1.0 \n",
    "df1[df1== 'Much (>$200)']=1.0 \n",
    "df1[df1=='Good']=1.0\n",
    "df1[df1=='Much']=1.0\n",
    "df1[df1=='OK (5~10 hrs)']=2.0\n",
    "df1[df1=='OK ($50~200)']=2.0\n",
    "df1[df1=='OK']=2.0\n",
    "df1[df1=='OK (1~2hrs)']=2.0\n",
    "df1[df1=='Little (<5 hrs)']=3.0\n",
    "df1[df1=='Little (<$50)']=3.0\n",
    "df1[df1=='Little (< 1 hrs)']=3.0\n",
    "df1[df1=='Little (<1 hrs)']=3.0\n",
    "df1[df1=='Little']=3.0\n",
    "df1[df1=='Bad']=3.0\n",
    "    \n",
    "df3[df3== 'Much (>10hrs)']=1.0 \n",
    "df3[df3== 'Much (>10 hrs)']=1.0 \n",
    "df3[df3== 'Much (>2 hrs)']=1.0 \n",
    "df3[df3== 'Much (>$200)']=1.0 \n",
    "df3[df3=='Good']=1.0\n",
    "df3[df3=='Much']=1.0\n",
    "df3[df3=='OK (5~10 hrs)']=2.0\n",
    "df3[df3=='OK ($50~200)']=2.0\n",
    "df3[df3=='OK']=2.0\n",
    "df3[df3=='OK (1~2hrs)']=2.0\n",
    "df3[df3=='Little (<5 hrs)']=3.0\n",
    "df3[df3=='Little (<$50)']=3.0\n",
    "df3[df3=='Little (< 1 hrs)']=3.0\n",
    "df3[df3=='Little (<1 hrs)']=3.0\n",
    "df3[df3=='Little']=3.0\n",
    "df3[df3=='Bad']=3.0\n",
    "\n",
    "df1=df1.astype(str).astype(float)\n",
    "df3=df3.astype(str).astype(float)"
   ]
  },
  {
   "cell_type": "markdown",
   "metadata": {},
   "source": [
    "### 3. Put into Model"
   ]
  },
  {
   "cell_type": "code",
   "execution_count": null,
   "metadata": {},
   "outputs": [],
   "source": []
  },
  {
   "cell_type": "markdown",
   "metadata": {},
   "source": [
    "### 4. Write into csv"
   ]
  },
  {
   "cell_type": "code",
   "execution_count": null,
   "metadata": {},
   "outputs": [],
   "source": [
    "\n",
    "csvfile = open('ho.csv', 'a')\n",
    "writer = csv.writer(csvfile,dialect='excel',lineterminator='\\n')\n",
    "writer.writerow(['1', '2', '3','4','5'])\n",
    "data = [\n",
    "   [3,3,2],[4,4,2],[1,1,0],[2,2,2],[1,1,1]\n",
    "]\n",
    "writer.writerows(data)\n",
    "\n",
    "csvfile.close()\n",
    "1\n",
    "2\n",
    "3\n",
    "4\n",
    "5\n",
    "6\n",
    "7\n",
    "8\n",
    "9\n",
    "csvfile = open('ho.csv', 'a')\n",
    "writer = csv.writer(csvfile,dialect='excel',lineterminator='\\n')\n",
    "writer.writerow(['1', '2', '3','4','5'])\n",
    "data = [\n",
    "   [3,3,2],[4,4,2],[1,1,0],[2,2,2],[1,1,1]\n",
    "]\n",
    "writer.writerows(data)\n",
    " \n",
    "csvfile.close()"
   ]
  },
  {
   "cell_type": "markdown",
   "metadata": {},
   "source": [
    "### 5. Analyze the Results"
   ]
  },
  {
   "cell_type": "code",
   "execution_count": null,
   "metadata": {},
   "outputs": [],
   "source": []
  }
 ],
 "metadata": {
  "kernelspec": {
   "display_name": "Python 3",
   "language": "python",
   "name": "python3"
  },
  "language_info": {
   "codemirror_mode": {
    "name": "ipython",
    "version": 3
   },
   "file_extension": ".py",
   "mimetype": "text/x-python",
   "name": "python",
   "nbconvert_exporter": "python",
   "pygments_lexer": "ipython3",
   "version": "3.6.5"
  }
 },
 "nbformat": 4,
 "nbformat_minor": 2
}
